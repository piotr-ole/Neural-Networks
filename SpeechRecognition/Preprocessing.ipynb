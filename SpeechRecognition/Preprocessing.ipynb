{
 "cells": [
  {
   "cell_type": "markdown",
   "metadata": {},
   "source": [
    "# Projekt 3 - Sieci Neuronowe"
   ]
  },
  {
   "cell_type": "markdown",
   "metadata": {},
   "source": [
    "### Przygotowanie danych"
   ]
  },
  {
   "cell_type": "code",
   "execution_count": 1,
   "metadata": {},
   "outputs": [],
   "source": [
    "import os\n",
    "from tqdm import tqdm\n",
    "import pandas as pd\n",
    "import numpy as np\n",
    "import matplotlib.pyplot as plt\n",
    "from scipy.io import wavfile\n",
    "from python_speech_features import mfcc, logfbank\n",
    "import tarfile\n",
    "from scipy import signal\n",
    "import scipy\n",
    "import librosa\n",
    "from PIL import Image"
   ]
  },
  {
   "cell_type": "markdown",
   "metadata": {},
   "source": [
    "Określenie klas, które dopuszczamy do klasyfikacji"
   ]
  },
  {
   "cell_type": "code",
   "execution_count": 2,
   "metadata": {},
   "outputs": [],
   "source": [
    "valid_classes = \"yes,no,up,down,left,right,on,off,stop,go\".split(',')\n",
    "dirs = os.listdir('./data')\n",
    "dirs.remove('_background_noise_')\n",
    "non_valid_classes = [x for x in dirs if x not in valid_classes]"
   ]
  },
  {
   "cell_type": "markdown",
   "metadata": {},
   "source": [
    "Stworzenie ramki danych, która zawiera informacje o wszystkich plikach w zbiorze"
   ]
  },
  {
   "cell_type": "code",
   "execution_count": 3,
   "metadata": {},
   "outputs": [],
   "source": [
    "dfrms = list()\n",
    "for directory in dirs:\n",
    "    files = os.listdir('./data/' + directory)\n",
    "    cl = list(np.repeat(directory, len(files)))\n",
    "    fullpath = ['./data/'+ c + '/' + file for c, file in zip(cl, files)]\n",
    "    tmp = pd.DataFrame({'filename': files, 'fullpath': fullpath,'class': cl})\n",
    "    dfrms.append(tmp)\n",
    "df = pd.concat(dfrms)"
   ]
  },
  {
   "cell_type": "code",
   "execution_count": 4,
   "metadata": {},
   "outputs": [
    {
     "data": {
      "text/plain": [
       "10"
      ]
     },
     "execution_count": 4,
     "metadata": {},
     "output_type": "execute_result"
    }
   ],
   "source": [
    "len(valid_classes)"
   ]
  },
  {
   "cell_type": "code",
   "execution_count": 5,
   "metadata": {},
   "outputs": [
    {
     "data": {
      "text/html": [
       "<div>\n",
       "<style scoped>\n",
       "    .dataframe tbody tr th:only-of-type {\n",
       "        vertical-align: middle;\n",
       "    }\n",
       "\n",
       "    .dataframe tbody tr th {\n",
       "        vertical-align: top;\n",
       "    }\n",
       "\n",
       "    .dataframe thead th {\n",
       "        text-align: right;\n",
       "    }\n",
       "</style>\n",
       "<table border=\"1\" class=\"dataframe\">\n",
       "  <thead>\n",
       "    <tr style=\"text-align: right;\">\n",
       "      <th></th>\n",
       "      <th>filename</th>\n",
       "      <th>fullpath</th>\n",
       "      <th>class</th>\n",
       "    </tr>\n",
       "  </thead>\n",
       "  <tbody>\n",
       "    <tr>\n",
       "      <th>0</th>\n",
       "      <td>00176480_nohash_0.wav</td>\n",
       "      <td>./data/bed/00176480_nohash_0.wav</td>\n",
       "      <td>bed</td>\n",
       "    </tr>\n",
       "    <tr>\n",
       "      <th>1</th>\n",
       "      <td>004ae714_nohash_0.wav</td>\n",
       "      <td>./data/bed/004ae714_nohash_0.wav</td>\n",
       "      <td>bed</td>\n",
       "    </tr>\n",
       "    <tr>\n",
       "      <th>2</th>\n",
       "      <td>004ae714_nohash_1.wav</td>\n",
       "      <td>./data/bed/004ae714_nohash_1.wav</td>\n",
       "      <td>bed</td>\n",
       "    </tr>\n",
       "    <tr>\n",
       "      <th>3</th>\n",
       "      <td>00f0204f_nohash_0.wav</td>\n",
       "      <td>./data/bed/00f0204f_nohash_0.wav</td>\n",
       "      <td>bed</td>\n",
       "    </tr>\n",
       "    <tr>\n",
       "      <th>4</th>\n",
       "      <td>00f0204f_nohash_1.wav</td>\n",
       "      <td>./data/bed/00f0204f_nohash_1.wav</td>\n",
       "      <td>bed</td>\n",
       "    </tr>\n",
       "  </tbody>\n",
       "</table>\n",
       "</div>"
      ],
      "text/plain": [
       "                filename                          fullpath class\n",
       "0  00176480_nohash_0.wav  ./data/bed/00176480_nohash_0.wav   bed\n",
       "1  004ae714_nohash_0.wav  ./data/bed/004ae714_nohash_0.wav   bed\n",
       "2  004ae714_nohash_1.wav  ./data/bed/004ae714_nohash_1.wav   bed\n",
       "3  00f0204f_nohash_0.wav  ./data/bed/00f0204f_nohash_0.wav   bed\n",
       "4  00f0204f_nohash_1.wav  ./data/bed/00f0204f_nohash_1.wav   bed"
      ]
     },
     "execution_count": 5,
     "metadata": {},
     "output_type": "execute_result"
    }
   ],
   "source": [
    "df.head()"
   ]
  },
  {
   "cell_type": "code",
   "execution_count": 6,
   "metadata": {},
   "outputs": [],
   "source": [
    "# Podzial na train i test, ten sam speaker nie moze byc i tutaj i tutaj, wiec trzeba to jakos sensowanie podzielic\n",
    "import copy\n",
    "old = copy.deepcopy(df)"
   ]
  },
  {
   "cell_type": "code",
   "execution_count": 7,
   "metadata": {},
   "outputs": [],
   "source": [
    "df = copy.deepcopy(old)"
   ]
  },
  {
   "cell_type": "markdown",
   "metadata": {},
   "source": [
    "Dodanie kolumny identyfikującej speakera nagrania"
   ]
  },
  {
   "cell_type": "code",
   "execution_count": 8,
   "metadata": {},
   "outputs": [],
   "source": [
    "filename = list(df['filename'])\n",
    "speaker = [x.split('_')[0] for x in filename]\n",
    "df = df.assign(speaker = speaker)\n",
    "unq_speakers = np.unique(speaker)"
   ]
  },
  {
   "cell_type": "markdown",
   "metadata": {},
   "source": [
    "Liczba unikalnych speakerów"
   ]
  },
  {
   "cell_type": "code",
   "execution_count": 9,
   "metadata": {},
   "outputs": [
    {
     "data": {
      "text/plain": [
       "1881"
      ]
     },
     "execution_count": 9,
     "metadata": {},
     "output_type": "execute_result"
    }
   ],
   "source": [
    "unq_speakers.size"
   ]
  },
  {
   "cell_type": "markdown",
   "metadata": {},
   "source": [
    "Liczba wszystkich nagran"
   ]
  },
  {
   "cell_type": "code",
   "execution_count": 10,
   "metadata": {},
   "outputs": [
    {
     "data": {
      "text/plain": [
       "64721"
      ]
     },
     "execution_count": 10,
     "metadata": {},
     "output_type": "execute_result"
    }
   ],
   "source": [
    "len(speaker)"
   ]
  },
  {
   "cell_type": "code",
   "execution_count": 11,
   "metadata": {},
   "outputs": [],
   "source": [
    "import random\n",
    "\n",
    "def sample_fraction(seq, frac):\n",
    "    return random.sample(seq, int(len(seq) * frac))\n",
    "\n",
    "samp = sample_fraction(list(unq_speakers), 0.8)"
   ]
  },
  {
   "cell_type": "code",
   "execution_count": 12,
   "metadata": {},
   "outputs": [
    {
     "data": {
      "text/html": [
       "<div>\n",
       "<style scoped>\n",
       "    .dataframe tbody tr th:only-of-type {\n",
       "        vertical-align: middle;\n",
       "    }\n",
       "\n",
       "    .dataframe tbody tr th {\n",
       "        vertical-align: top;\n",
       "    }\n",
       "\n",
       "    .dataframe thead th {\n",
       "        text-align: right;\n",
       "    }\n",
       "</style>\n",
       "<table border=\"1\" class=\"dataframe\">\n",
       "  <thead>\n",
       "    <tr style=\"text-align: right;\">\n",
       "      <th></th>\n",
       "      <th>filename</th>\n",
       "      <th>fullpath</th>\n",
       "      <th>class</th>\n",
       "      <th>speaker</th>\n",
       "    </tr>\n",
       "  </thead>\n",
       "  <tbody>\n",
       "    <tr>\n",
       "      <th>0</th>\n",
       "      <td>00176480_nohash_0.wav</td>\n",
       "      <td>./data/bed/00176480_nohash_0.wav</td>\n",
       "      <td>bed</td>\n",
       "      <td>00176480</td>\n",
       "    </tr>\n",
       "    <tr>\n",
       "      <th>1</th>\n",
       "      <td>004ae714_nohash_0.wav</td>\n",
       "      <td>./data/bed/004ae714_nohash_0.wav</td>\n",
       "      <td>bed</td>\n",
       "      <td>004ae714</td>\n",
       "    </tr>\n",
       "    <tr>\n",
       "      <th>2</th>\n",
       "      <td>004ae714_nohash_1.wav</td>\n",
       "      <td>./data/bed/004ae714_nohash_1.wav</td>\n",
       "      <td>bed</td>\n",
       "      <td>004ae714</td>\n",
       "    </tr>\n",
       "    <tr>\n",
       "      <th>3</th>\n",
       "      <td>00f0204f_nohash_0.wav</td>\n",
       "      <td>./data/bed/00f0204f_nohash_0.wav</td>\n",
       "      <td>bed</td>\n",
       "      <td>00f0204f</td>\n",
       "    </tr>\n",
       "    <tr>\n",
       "      <th>4</th>\n",
       "      <td>00f0204f_nohash_1.wav</td>\n",
       "      <td>./data/bed/00f0204f_nohash_1.wav</td>\n",
       "      <td>bed</td>\n",
       "      <td>00f0204f</td>\n",
       "    </tr>\n",
       "  </tbody>\n",
       "</table>\n",
       "</div>"
      ],
      "text/plain": [
       "                filename                          fullpath class   speaker\n",
       "0  00176480_nohash_0.wav  ./data/bed/00176480_nohash_0.wav   bed  00176480\n",
       "1  004ae714_nohash_0.wav  ./data/bed/004ae714_nohash_0.wav   bed  004ae714\n",
       "2  004ae714_nohash_1.wav  ./data/bed/004ae714_nohash_1.wav   bed  004ae714\n",
       "3  00f0204f_nohash_0.wav  ./data/bed/00f0204f_nohash_0.wav   bed  00f0204f\n",
       "4  00f0204f_nohash_1.wav  ./data/bed/00f0204f_nohash_1.wav   bed  00f0204f"
      ]
     },
     "execution_count": 12,
     "metadata": {},
     "output_type": "execute_result"
    }
   ],
   "source": [
    "df.head()"
   ]
  },
  {
   "cell_type": "code",
   "execution_count": 13,
   "metadata": {},
   "outputs": [],
   "source": [
    "#df[df['speaker'].isin(samp)]"
   ]
  },
  {
   "cell_type": "markdown",
   "metadata": {},
   "source": [
    "Zamiana niechcianych klas na klasę 'unknown'. Chwilowo wyrzucenie klas unknown dla przyspieszenia obliczeń."
   ]
  },
  {
   "cell_type": "code",
   "execution_count": 14,
   "metadata": {},
   "outputs": [],
   "source": [
    "# rename other classes\n",
    "rows = df['class'].isin(non_valid_classes)\n",
    "df.loc[rows ,'class'] = 'unknown'\n",
    "df = df[df['class'] != 'unknown']"
   ]
  },
  {
   "cell_type": "markdown",
   "metadata": {},
   "source": [
    "Rozkład ilosci probek z poszczegolnych klas"
   ]
  },
  {
   "cell_type": "code",
   "execution_count": 15,
   "metadata": {},
   "outputs": [],
   "source": [
    "# Class distribution\n",
    "classes_counts = {}\n",
    "valid_classes\n",
    "for cl in valid_classes: classes_counts[cl] = 0 \n",
    "for cl in df['class']:\n",
    "    classes_counts[cl] += 1"
   ]
  },
  {
   "cell_type": "markdown",
   "metadata": {},
   "source": [
    "W miarę jednostajny rozkład wszystkich klas (valid)"
   ]
  },
  {
   "cell_type": "code",
   "execution_count": 16,
   "metadata": {},
   "outputs": [
    {
     "data": {
      "text/plain": [
       "{'yes': 2377,\n",
       " 'no': 2375,\n",
       " 'up': 2375,\n",
       " 'down': 2359,\n",
       " 'left': 2353,\n",
       " 'right': 2367,\n",
       " 'on': 2367,\n",
       " 'off': 2357,\n",
       " 'stop': 2380,\n",
       " 'go': 2372}"
      ]
     },
     "execution_count": 16,
     "metadata": {},
     "output_type": "execute_result"
    }
   ],
   "source": [
    "classes_counts"
   ]
  },
  {
   "cell_type": "markdown",
   "metadata": {},
   "source": [
    "Podział na zbiór testowy i treningowy"
   ]
  },
  {
   "cell_type": "code",
   "execution_count": 17,
   "metadata": {},
   "outputs": [
    {
     "data": {
      "text/plain": [
       "['yes', 'no', 'up', 'down', 'left', 'right', 'on', 'off', 'stop', 'go']"
      ]
     },
     "execution_count": 17,
     "metadata": {},
     "output_type": "execute_result"
    }
   ],
   "source": [
    "valid_classes"
   ]
  },
  {
   "cell_type": "code",
   "execution_count": 18,
   "metadata": {},
   "outputs": [],
   "source": [
    "train = []\n",
    "test = []\n",
    "for cl in valid_classes:\n",
    "    unq_speakers = np.unique(df.loc[df['class'] == cl , 'speaker'])\n",
    "    train_samp = random.sample(range(unq_speakers.size), int(0.8 * unq_speakers.size))\n",
    "    test_samp = [item for item in range(unq_speakers.size) if item not in train_samp]\n",
    "    test.append(df.loc[df['class'] == cl].iloc[test_samp, :])\n",
    "    train.append(df.loc[df['class'] == cl].iloc[train_samp, :])"
   ]
  },
  {
   "cell_type": "code",
   "execution_count": 19,
   "metadata": {},
   "outputs": [],
   "source": [
    "train_df = pd.concat(train)\n",
    "test_df = pd.concat(test)"
   ]
  },
  {
   "cell_type": "code",
   "execution_count": 20,
   "metadata": {},
   "outputs": [
    {
     "data": {
      "text/plain": [
       "38096"
      ]
     },
     "execution_count": 20,
     "metadata": {},
     "output_type": "execute_result"
    }
   ],
   "source": [
    "train_df.size"
   ]
  },
  {
   "cell_type": "code",
   "execution_count": 21,
   "metadata": {},
   "outputs": [
    {
     "data": {
      "text/plain": [
       "0.20033585222502098"
      ]
     },
     "execution_count": 21,
     "metadata": {},
     "output_type": "execute_result"
    }
   ],
   "source": [
    "test_df.size / (test_df.size + train_df.size)"
   ]
  },
  {
   "cell_type": "markdown",
   "metadata": {},
   "source": [
    "Taraz mam podzielony zbiór w taki sposób, że 20% to testowy, 80% treningowy i w zbiorze testowym są inni speakerzy niż w treningowym."
   ]
  },
  {
   "cell_type": "code",
   "execution_count": 22,
   "metadata": {},
   "outputs": [
    {
     "data": {
      "text/html": [
       "<div>\n",
       "<style scoped>\n",
       "    .dataframe tbody tr th:only-of-type {\n",
       "        vertical-align: middle;\n",
       "    }\n",
       "\n",
       "    .dataframe tbody tr th {\n",
       "        vertical-align: top;\n",
       "    }\n",
       "\n",
       "    .dataframe thead th {\n",
       "        text-align: right;\n",
       "    }\n",
       "</style>\n",
       "<table border=\"1\" class=\"dataframe\">\n",
       "  <thead>\n",
       "    <tr style=\"text-align: right;\">\n",
       "      <th></th>\n",
       "      <th>filename</th>\n",
       "      <th>fullpath</th>\n",
       "      <th>class</th>\n",
       "      <th>speaker</th>\n",
       "    </tr>\n",
       "  </thead>\n",
       "  <tbody>\n",
       "    <tr>\n",
       "      <th>538</th>\n",
       "      <td>3bc21161_nohash_4.wav</td>\n",
       "      <td>./data/yes/3bc21161_nohash_4.wav</td>\n",
       "      <td>yes</td>\n",
       "      <td>3bc21161</td>\n",
       "    </tr>\n",
       "    <tr>\n",
       "      <th>508</th>\n",
       "      <td>3903b558_nohash_0.wav</td>\n",
       "      <td>./data/yes/3903b558_nohash_0.wav</td>\n",
       "      <td>yes</td>\n",
       "      <td>3903b558</td>\n",
       "    </tr>\n",
       "    <tr>\n",
       "      <th>887</th>\n",
       "      <td>62ef962d_nohash_2.wav</td>\n",
       "      <td>./data/yes/62ef962d_nohash_2.wav</td>\n",
       "      <td>yes</td>\n",
       "      <td>62ef962d</td>\n",
       "    </tr>\n",
       "    <tr>\n",
       "      <th>276</th>\n",
       "      <td>210f3aa9_nohash_0.wav</td>\n",
       "      <td>./data/yes/210f3aa9_nohash_0.wav</td>\n",
       "      <td>yes</td>\n",
       "      <td>210f3aa9</td>\n",
       "    </tr>\n",
       "    <tr>\n",
       "      <th>1138</th>\n",
       "      <td>7ea032f3_nohash_2.wav</td>\n",
       "      <td>./data/yes/7ea032f3_nohash_2.wav</td>\n",
       "      <td>yes</td>\n",
       "      <td>7ea032f3</td>\n",
       "    </tr>\n",
       "  </tbody>\n",
       "</table>\n",
       "</div>"
      ],
      "text/plain": [
       "                   filename                          fullpath class   speaker\n",
       "538   3bc21161_nohash_4.wav  ./data/yes/3bc21161_nohash_4.wav   yes  3bc21161\n",
       "508   3903b558_nohash_0.wav  ./data/yes/3903b558_nohash_0.wav   yes  3903b558\n",
       "887   62ef962d_nohash_2.wav  ./data/yes/62ef962d_nohash_2.wav   yes  62ef962d\n",
       "276   210f3aa9_nohash_0.wav  ./data/yes/210f3aa9_nohash_0.wav   yes  210f3aa9\n",
       "1138  7ea032f3_nohash_2.wav  ./data/yes/7ea032f3_nohash_2.wav   yes  7ea032f3"
      ]
     },
     "execution_count": 22,
     "metadata": {},
     "output_type": "execute_result"
    }
   ],
   "source": [
    "train_df.head()"
   ]
  },
  {
   "cell_type": "code",
   "execution_count": 23,
   "metadata": {},
   "outputs": [],
   "source": [
    "train_df.to_csv('train_df.csv', header=True, sep=\";\", index=False)\n",
    "test_df.to_csv('test_df.csv', header=True, sep=\";\", index=False)"
   ]
  },
  {
   "cell_type": "markdown",
   "metadata": {},
   "source": [
    "## Zapisywanie spektrogramów"
   ]
  },
  {
   "cell_type": "markdown",
   "metadata": {},
   "source": [
    "Tworzenie drzewa folderow, zawierajacych spektrogramy."
   ]
  },
  {
   "cell_type": "code",
   "execution_count": null,
   "metadata": {},
   "outputs": [],
   "source": [
    "os.mkdir('./data_good')\n",
    "os.mkdir('./data_good/train')\n",
    "os.mkdir('./data_good/test')\n",
    "\n",
    "for cl in valid_classes:\n",
    "    os.mkdir('./data_good/train/' + cl)\n",
    "    os.mkdir('./data_good/test/' + cl)"
   ]
  },
  {
   "cell_type": "markdown",
   "metadata": {},
   "source": [
    "Funkcja maskująca szum:"
   ]
  },
  {
   "cell_type": "code",
   "execution_count": null,
   "metadata": {},
   "outputs": [],
   "source": [
    "def envelope(y, rate, treshold):\n",
    "    mask = []\n",
    "    y = pd.Series(y).apply(np.abs)\n",
    "    y_mean = y.rolling(window = int(rate / 10), min_periods = 1, center = True).mean()\n",
    "    for mean in y_mean:\n",
    "        mask.append(False) if mean < treshold else mask.append(True)\n",
    "    return mask"
   ]
  },
  {
   "cell_type": "markdown",
   "metadata": {},
   "source": [
    "Funkcja generująca pojedynczy spektrogram:"
   ]
  },
  {
   "cell_type": "code",
   "execution_count": null,
   "metadata": {},
   "outputs": [],
   "source": [
    "#https://stackoverflow.com/questions/47147146/save-spectrogram-only-content-without-axes-or-anything-else-to-a-file-using-m\n",
    "def create_spectrogram(filename, filepath, cl, targetdir):\n",
    "    signal,rate = librosa.load(filepath, sr = 16000)\n",
    "    mask = envelope(signal, rate, 0.005)\n",
    "    fig,ax = plt.subplots(1, figsize = (0.25,0.25))\n",
    "    fig.subplots_adjust(left=0,right=1,bottom=0,top=1)\n",
    "    ax.axis('off')\n",
    "    pxx, freqs, bins, im = ax.specgram(x=signal[mask], Fs=rate, noverlap=500, NFFT=512)\n",
    "    ax.axis('off')\n",
    "    outputpath = './data_good/' + targetdir + '/' + cl + '/' + filename.split('.wav')[0] + '.jpg'\n",
    "    fig.savefig(outputpath , dpi=300)\n",
    "    fig.clear()\n",
    "    plt.close(fig)\n",
    "    return outputpath"
   ]
  },
  {
   "cell_type": "markdown",
   "metadata": {},
   "source": [
    "Funkcja generująca cały dataset:"
   ]
  },
  {
   "cell_type": "code",
   "execution_count": null,
   "metadata": {},
   "outputs": [],
   "source": [
    "def create_dataset(df, typeof, convert_grayscale = True):\n",
    "    for index, row in df.iterrows():\n",
    "            path = create_spectrogram(filename = row['filename'], filepath = row['fullpath'],\n",
    "                                      cl = row['class'], targetdir = typeof)\n",
    "            if convert_grayscale == True:\n",
    "                img = Image.open(path).convert('L')\n",
    "                img.save(path)"
   ]
  },
  {
   "cell_type": "code",
   "execution_count": null,
   "metadata": {},
   "outputs": [],
   "source": [
    "#create_dataset(train_df, 'train')\n",
    "#create_dataset(test_df, 'test')"
   ]
  },
  {
   "cell_type": "markdown",
   "metadata": {},
   "source": [
    "## Dodatkowy zabieg do dataloadera"
   ]
  },
  {
   "cell_type": "markdown",
   "metadata": {},
   "source": [
    "W celu wykonania własnego Dataset, koniecznym było wygenerowanie plików csv, które agregowałyby informacje o ścieżkach do plików oraz klasach komend. W tym celu został napisany poniższy kod, który generuje takie pliki."
   ]
  },
  {
   "cell_type": "code",
   "execution_count": 31,
   "metadata": {},
   "outputs": [],
   "source": [
    "import glob\n",
    "import pandas as pd\n",
    "\n",
    "path = '.\\\\data_good\\\\'\n",
    "\n",
    "files = [f for f in glob.glob(path + \"**/*.jpg\", recursive=True)]\n",
    "\n",
    "all_files = pd.DataFrame(files, columns = ['fullpath'])"
   ]
  },
  {
   "cell_type": "code",
   "execution_count": null,
   "metadata": {},
   "outputs": [],
   "source": [
    "def correct_windows(line):\n",
    "    line = list(line)\n",
    "    for i, c in enumerate(line):\n",
    "        if c == '\\\\':\n",
    "            line[i] = '/'\n",
    "    return ''.join(line)"
   ]
  },
  {
   "cell_type": "code",
   "execution_count": 32,
   "metadata": {},
   "outputs": [],
   "source": [
    "def change_form(df):\n",
    "    df.loc[:, 'fullpath'] = df.loc[:, 'fullpath'].apply(correct_windows)\n",
    "    df['class'] = df.loc[:, 'fullpath'].apply(lambda path: path.split('/')[3])\n",
    "    classes_unq = df.loc[:, 'class'].unique()\n",
    "    d = dict([(x, i) for (i,x) in enumerate(classes_unq)])\n",
    "    df[\"label\"] = df.loc[:, 'class'].apply(lambda cl: d[cl])\n",
    "    return df"
   ]
  },
  {
   "cell_type": "code",
   "execution_count": 33,
   "metadata": {},
   "outputs": [],
   "source": [
    "def splitCsv(df_all):\n",
    "    df_all = change_form(df_all)\n",
    "    train = df_all[df_all.apply(lambda line: 'train' in line['fullpath'], axis = 1)]\n",
    "    test = df_all[df_all.apply(lambda line: 'test' in line['fullpath'], axis = 1)]\n",
    "    return train, test"
   ]
  },
  {
   "cell_type": "code",
   "execution_count": 35,
   "metadata": {},
   "outputs": [],
   "source": [
    "train, test = splitCsv(all_files)"
   ]
  },
  {
   "cell_type": "code",
   "execution_count": 36,
   "metadata": {},
   "outputs": [],
   "source": [
    "train.to_csv('train.csv', header=True, sep=\";\", index=False)\n",
    "test.to_csv('test.csv', header=True, sep=\";\", index=False)"
   ]
  },
  {
   "cell_type": "markdown",
   "metadata": {},
   "source": [
    "## Tworzenie archiwum\n"
   ]
  },
  {
   "cell_type": "markdown",
   "metadata": {},
   "source": [
    "Spakowane dane wraz plikami csv są pakowane, a następnie umieszczene na AWS s3 w celu ich pobrania z poziomu Google Colab."
   ]
  },
  {
   "cell_type": "code",
   "execution_count": 38,
   "metadata": {},
   "outputs": [],
   "source": [
    "import tarfile\n",
    "\n",
    "with tarfile.open('audioSpectrograms2.tar.gz', mode='w:gz') as archive:\n",
    "    archive.add('./data_good/test', recursive=True)\n",
    "    archive.add('./data_good/train', recursive=True)\n",
    "    archive.add('train.csv')\n",
    "    archive.add('test.csv')"
   ]
  },
  {
   "cell_type": "markdown",
   "metadata": {},
   "source": [
    "## Przykład jak działa odszumianie"
   ]
  },
  {
   "cell_type": "code",
   "execution_count": 67,
   "metadata": {},
   "outputs": [
    {
     "data": {
      "text/plain": [
       "[<matplotlib.lines.Line2D at 0x1d8ae4f4898>]"
      ]
     },
     "execution_count": 67,
     "metadata": {},
     "output_type": "execute_result"
    },
    {
     "data": {
      "image/png": "[encoded data removed]",
      "text/plain": [
       "<Figure size 432x288 with 2 Axes>"
      ]
     },
     "metadata": {
      "needs_background": "light"
     },
     "output_type": "display_data"
    }
   ],
   "source": [
    "wav_file = 'path_to_file'\n",
    "signal,rate = librosa.load(wav_file, sr = 16000)\n",
    "mask = envelope(signal, rate, 0.005)\n",
    "\n",
    "plt.subplot(1,2,1)\n",
    "plt.plot(signal)\n",
    "plt.subplot(1,2,2)\n",
    "plt.plot(signal[mask])"
   ]
  }
 ],
 "metadata": {
  "kernelspec": {
   "display_name": "Python [conda env:AudioRecognition]",
   "language": "python",
   "name": "conda-env-AudioRecognition-py"
  },
  "language_info": {
   "codemirror_mode": {
    "name": "ipython",
    "version": 3
   },
   "file_extension": ".py",
   "mimetype": "text/x-python",
   "name": "python",
   "nbconvert_exporter": "python",
   "pygments_lexer": "ipython3",
   "version": "3.6.8"
  }
 },
 "nbformat": 4,
 "nbformat_minor": 2
}
